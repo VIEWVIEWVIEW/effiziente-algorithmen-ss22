{
 "cells": [
  {
   "cell_type": "code",
   "execution_count": 1,
   "metadata": {
    "pycharm": {
     "name": "#%%\n"
    }
   },
   "outputs": [],
   "source": [
    "path1 = \"tomate-virus.txt\"\n",
    "file_1 = open(path1, \"r\")\n",
    "stripped_1 = ''.join([line.rstrip('\\n') for line in file_1])\n",
    "\n",
    "path2 = \"botryosphaeria_dothidea_chrysovirus_1_uid382570.txt\"\n",
    "file_2 = open(path2, \"r\")\n",
    "stripped_2 = ''.join([line.rstrip('\\n') for line in file_2])"
   ]
  },
  {
   "cell_type": "markdown",
   "metadata": {
    "pycharm": {
     "name": "#%% md\n"
    }
   },
   "source": [
    "# Run LCS vs LCS_Optimized_2_Lines vs LCS_Optimized_Memory_d_lines"
   ]
  },
  {
   "cell_type": "code",
   "execution_count": null,
   "metadata": {
    "pycharm": {
     "is_executing": true,
     "name": "#%%\n"
    }
   },
   "outputs": [],
   "source": [
    "import math\n",
    "import time\n",
    "from LCS.LCS import lcs_length, print_lcs # naive\n",
    "from LCS.LCS_Optimized_2_Lines import lcs_length as lcs_length_two_lines  # lcs optimized\n",
    "from LCS.LCS_Optimized_Memory_d_Lines import lcs_length as lcs_length_d_lines, print_lcs_reconstruct\n",
    "from memory_profiler import memory_usage\n",
    "\n",
    "\n",
    "\n",
    "\n",
    "## Benchmark LCS\n",
    "# time\n",
    "bench_start = time.time()\n",
    "c, b = lcs_length(stripped_1, stripped_2)\n",
    "bench_end = time.time()\n",
    "\n",
    "# memory\n",
    "mem = memory_usage((lcs_length, (stripped_1, stripped_2)))\n",
    "\n",
    "# results\n",
    "lcs_naive_benchmark = bench_end - bench_start\n",
    "lcs_naive_memory_usage = max(mem)\n",
    "\n",
    "# Benchmark LCS 2 Lines\n",
    "#time\n",
    "bench_start = time.time()\n",
    "c = lcs_length_two_lines(stripped_1, stripped_2)\n",
    "bench_end = time.time()\n",
    "\n",
    "# memory\n",
    "mem = memory_usage((lcs_length_two_lines, (stripped_1, stripped_2)))\n",
    "\n",
    "#results\n",
    "lcs_optimized_two_lines_benchmark = bench_end - bench_start\n",
    "lcs_optimized_two_lines_memory_usage = max(mem)\n",
    "\n",
    "\n",
    "# Benchmark LCS with d lines\n",
    "#time\n",
    "bench_start = time.time()\n",
    "d = round(math.sqrt(len(stripped_2) + 1)) # d=runden(wurzel(n+1))\n",
    "lenLCS, cb, bb = lcs_length_d_lines(stripped_1, stripped_2, d)\n",
    "bench_end = time.time()\n",
    "\n",
    "#memory\n",
    "mem = memory_usage((lcs_length_d_lines, (stripped_1, stripped_2, d)))\n",
    "print(d)\n",
    "\n",
    "# results\n",
    "lcs_optimized_d_lines_benchmark = bench_end - bench_start\n",
    "lcs_optimized_d_lines_memory_usage = max(mem)\n",
    "\n",
    "\n",
    "results_time = [lcs_naive_benchmark, lcs_optimized_two_lines_benchmark, lcs_optimized_d_lines_benchmark]\n",
    "results_memory = [lcs_naive_memory_usage, lcs_optimized_d_lines_memory_usage, lcs_optimized_d_lines_memory_usage]\n",
    "\n",
    "print(results_memory, results_time)"
   ]
  },
  {
   "cell_type": "code",
   "execution_count": null,
   "metadata": {
    "pycharm": {
     "is_executing": true,
     "name": "#%%\n"
    }
   },
   "outputs": [],
   "source": [
    "import numpy as np\n",
    "import matplotlib.pyplot as plt\n",
    "labels = [\"Standard\", \"2 Lines\", \"d Lines\"]\n",
    "\n",
    "x = np.arange(len(labels))  # the label locations\n",
    "width = 0.35  # the width of the bars\n",
    "\n",
    "fig, ax = plt.subplots()\n",
    "\n",
    "tmp_results_placeholder = [1,2,3]\n",
    "rects1 = ax.bar(x - width/2, results_time, width, label='Tomatenvirus & Chrysovirus')\n",
    "rects2 = ax.bar(x + width/2, tmp_results_placeholder, width, label='Placeholder for other comparison')\n",
    "\n",
    "# Add some text for labels, title and custom x-axis tick labels, etc.\n",
    "ax.set_ylabel('Laufzeit in Sekunden (Niedriger ist besser)')\n",
    "ax.set_title('Laufzeiten von verschiedenen LCS Implementationen')\n",
    "ax.set_xticks(x, labels)\n",
    "ax.legend()\n",
    "\n",
    "#ax.bar_label(rects, padding=3)\n",
    "#fig.tight_layout()\n",
    "\n",
    "plt.show()"
   ]
  },
  {
   "cell_type": "code",
   "execution_count": null,
   "metadata": {
    "pycharm": {
     "is_executing": true,
     "name": "#%%\n"
    }
   },
   "outputs": [],
   "source": [
    "fig, ax = plt.subplots()\n",
    "ax.set_ylabel('Speicherverbrauch in MB')\n",
    "ax.set_title('Speicherverbrauch von verschiedenen LCS Implementationen')\n",
    "ax.set_xticks(x, labels)\n",
    "\n",
    "\n",
    "rects1 = ax.bar(x, results_memory, width, label='Tomatenvirus & Chrysovirus')\n",
    "\n",
    "plt.show()"
   ]
  }
 ],
 "metadata": {
  "kernelspec": {
   "display_name": "Python 3 (ipykernel)",
   "language": "python",
   "name": "python3"
  },
  "language_info": {
   "codemirror_mode": {
    "name": "ipython",
    "version": 3
   },
   "file_extension": ".py",
   "mimetype": "text/x-python",
   "name": "python",
   "nbconvert_exporter": "python",
   "pygments_lexer": "ipython3",
   "version": "3.10.4"
  }
 },
 "nbformat": 4,
 "nbformat_minor": 1
}